{
 "cells": [
  {
   "cell_type": "markdown",
   "id": "18c5c2a4",
   "metadata": {
    "deletable": false,
    "editable": false,
    "nbgrader": {
     "cell_type": "markdown",
     "checksum": "ee56b6a0032fc3d4d10c49ca9e2807ab",
     "grade": false,
     "grade_id": "cell-b31e17d8efd20c40",
     "locked": true,
     "schema_version": 3,
     "solution": false,
     "task": false
    }
   },
   "source": [
    "# Q1: Team Management System\n",
    "\n",
    "Your task is to implement a simple team management system in Python using object-oriented programming concepts. You will create two classes: `Member` and `Team`. You will also write a main program to demonstrate how these classes can be used."
   ]
  },
  {
   "cell_type": "markdown",
   "id": "4da548d3",
   "metadata": {
    "deletable": false,
    "editable": false,
    "nbgrader": {
     "cell_type": "markdown",
     "checksum": "65adf807b7a3d8f1683db3df9f6b7726",
     "grade": false,
     "grade_id": "cell-fe7e818992364a45",
     "locked": true,
     "schema_version": 3,
     "solution": false,
     "task": false
    }
   },
   "source": [
    "The **Member** class represents an individual team member. It should have the following:\n",
    "\n",
    "- `__init__(name: str, role: str)`: Initializes a member with their name and role.\n",
    "\n",
    "- `__str__()`: Returns a string representation of the member's name and role in the format \"Name: {name}, Role: {role}\". For example,\n",
    "```python\n",
    "member = Member(\"Alice\", \"Developer\")\n",
    "print(member)  # Name: Alice, Role: Developer\n",
    "```"
   ]
  },
  {
   "cell_type": "markdown",
   "id": "e15eb9d1",
   "metadata": {
    "deletable": false,
    "editable": false,
    "nbgrader": {
     "cell_type": "markdown",
     "checksum": "e07d904bb1f8502385e6d202813fcb2c",
     "grade": false,
     "grade_id": "cell-01e6e015edd073f4",
     "locked": true,
     "schema_version": 3,
     "solution": false,
     "task": false
    }
   },
   "source": [
    "The **Team** class manages a collection of Member objects. It should have the following:\n",
    "\n",
    "- `__init__(team_name: str)`: Initializes a team with its name and an empty list of members.\n",
    "- `add_member(member: Member)`: Adds a Member to the team.\n",
    "- `remove_member(name: str)`: Removes a Member from the team based on their name.\n",
    "- `count_members_by_role(self)`: Returns a dictionary where keys are roles and values are the count of members with that role.\n",
    "- `role_percentage(self)`: Returns a dictionary where keys are roles and values are the percentage of members with that role, formatted as percentages."
   ]
  },
  {
   "cell_type": "code",
   "execution_count": 92,
   "id": "11efe5f5",
   "metadata": {
    "deletable": false,
    "nbgrader": {
     "cell_type": "code",
     "checksum": "29d835de90a1ab7aa48c2b8da72bff88",
     "grade": false,
     "grade_id": "cell-579f0d6ef187ca06",
     "locked": false,
     "schema_version": 3,
     "solution": true,
     "task": false
    }
   },
   "outputs": [],
   "source": [
    "from collections import Counter\n",
    "\n",
    "class Member:\n",
    "    def __init__(self, name, role):\n",
    "        self.name = name\n",
    "        self.role = role\n",
    "    def __str__(self):\n",
    "        return f\"Name: {self.name}, Role: {self.role}\"\n",
    "        \n",
    "class Team:\n",
    "    def __init__(self, team_name):\n",
    "        self.team_name = team_name\n",
    "        self.members = []\n",
    "\n",
    "    def add_member(self, member):\n",
    "        self.members.append(member)\n",
    "\n",
    "    def remove_member(self, name):\n",
    "        for i in self.members:\n",
    "            if i.name == name:\n",
    "                self.members.remove(i)\n",
    "\n",
    "    def count_members_by_role(self):\n",
    "        role_counts = Counter(member.role for member in self.members)\n",
    "        return dict(role_counts)\n",
    "\n",
    "    def role_percentage(self):\n",
    "        dic = self.count_members_by_role()\n",
    "        dic1 = {role : round(per/sum(list(dic.values())) * 100, 2) for role, per in dic.items()}\n",
    "        return dic1\n",
    "\n",
    "    def __str__(self):\n",
    "        return f\"Team Name: {self.team_name}, Number of Members: {len(self.members)}\""
   ]
  },
  {
   "cell_type": "code",
   "execution_count": 96,
   "id": "a1af1cb5",
   "metadata": {
    "deletable": false,
    "editable": false,
    "nbgrader": {
     "cell_type": "code",
     "checksum": "ccf441ebe23f928da7954486c211d2a2",
     "grade": true,
     "grade_id": "cell-14a70865bc4c5464",
     "locked": true,
     "points": 1,
     "schema_version": 3,
     "solution": false,
     "task": false
    }
   },
   "outputs": [
    {
     "name": "stdout",
     "output_type": "stream",
     "text": [
      "ok\n"
     ]
    }
   ],
   "source": [
    "# Test: Verify that the Member object is initialized with the correct name and role.\n",
    "def test_member_constructor():\n",
    "    member = Member(\"Alice\", \"Developer\")\n",
    "    assert member.name == \"Alice\"\n",
    "    assert member.role == \"Developer\"\n",
    "    print(\"ok\")\n",
    "\n",
    "test_member_constructor()"
   ]
  },
  {
   "cell_type": "code",
   "execution_count": 98,
   "id": "b05d6ec7",
   "metadata": {
    "deletable": false,
    "editable": false,
    "nbgrader": {
     "cell_type": "code",
     "checksum": "59e924e54f8936da0c0b50c6bc54f6af",
     "grade": true,
     "grade_id": "cell-03181b05a8ae7a22",
     "locked": true,
     "points": 1,
     "schema_version": 3,
     "solution": false,
     "task": false
    }
   },
   "outputs": [
    {
     "name": "stdout",
     "output_type": "stream",
     "text": [
      "ok\n"
     ]
    }
   ],
   "source": [
    "# Test: Verify that the string representation of the Member object is correctly formatted.\n",
    "def test_member_str():\n",
    "    member = Member(\"Bob\", \"Designer\")\n",
    "    assert str(member) == \"Name: Bob, Role: Designer\"\n",
    "    print(\"ok\")\n",
    "\n",
    "test_member_str()"
   ]
  },
  {
   "cell_type": "code",
   "execution_count": 100,
   "id": "3e55378a",
   "metadata": {
    "deletable": false,
    "editable": false,
    "nbgrader": {
     "cell_type": "code",
     "checksum": "5f278a226d09ea67446e9b4d186b75a6",
     "grade": true,
     "grade_id": "cell-70c3d77d3f129c51",
     "locked": true,
     "points": 1,
     "schema_version": 3,
     "solution": false,
     "task": false
    }
   },
   "outputs": [
    {
     "name": "stdout",
     "output_type": "stream",
     "text": [
      "ok\n"
     ]
    }
   ],
   "source": [
    "# Test: Verify that a member is added to the team.\n",
    "def test_add_member():\n",
    "    team = Team(\"Project A\")\n",
    "    member = Member(\"Alice\", \"Developer\")\n",
    "    team.add_member(member)\n",
    "    assert len(team.members) == 1\n",
    "    assert team.members[0].name == \"Alice\"\n",
    "    print(\"ok\")\n",
    "\n",
    "test_add_member()"
   ]
  },
  {
   "cell_type": "code",
   "execution_count": 102,
   "id": "425cb5b3",
   "metadata": {
    "deletable": false,
    "editable": false,
    "nbgrader": {
     "cell_type": "code",
     "checksum": "554b254af77cf0a84188db67bf502168",
     "grade": true,
     "grade_id": "cell-6718d481ca6b2e78",
     "locked": true,
     "points": 1,
     "schema_version": 3,
     "solution": false,
     "task": false
    }
   },
   "outputs": [
    {
     "name": "stdout",
     "output_type": "stream",
     "text": [
      "ok\n"
     ]
    }
   ],
   "source": [
    "# Test: Verify that a member is removed from the team.\n",
    "def test_remove_member():\n",
    "    team = Team(\"Project A\")\n",
    "    member1 = Member(\"Alice\", \"Developer\")\n",
    "    member2 = Member(\"Bob\", \"Designer\")\n",
    "    team.add_member(member1)\n",
    "    team.add_member(member2)\n",
    "    team.remove_member(\"Alice\")\n",
    "    assert len(team.members) == 1\n",
    "    assert team.members[0].name == \"Bob\"\n",
    "    print(\"ok\")\n",
    "\n",
    "test_remove_member()"
   ]
  },
  {
   "cell_type": "code",
   "execution_count": 104,
   "id": "163b72ed",
   "metadata": {
    "deletable": false,
    "editable": false,
    "nbgrader": {
     "cell_type": "code",
     "checksum": "0a6cf30f419a74fe03c5eaad8a0509c6",
     "grade": true,
     "grade_id": "cell-07c7a345aeacbe30",
     "locked": true,
     "points": 1,
     "schema_version": 3,
     "solution": false,
     "task": false
    }
   },
   "outputs": [
    {
     "name": "stdout",
     "output_type": "stream",
     "text": [
      "ok\n"
     ]
    }
   ],
   "source": [
    "# Test: Verify that the number of members is counted correctly by role.\n",
    "def test_count_members_by_role():\n",
    "    team = Team(\"Project A\")\n",
    "    team.add_member(Member(\"Alice\", \"Developer\"))\n",
    "    team.add_member(Member(\"Bob\", \"Designer\"))\n",
    "    team.add_member(Member(\"Charlie\", \"Developer\"))\n",
    "    role_counts = team.count_members_by_role()\n",
    "    assert role_counts == {\"Developer\": 2, \"Designer\": 1}\n",
    "    print(\"ok\")\n",
    "\n",
    "test_count_members_by_role()"
   ]
  },
  {
   "cell_type": "code",
   "execution_count": 106,
   "id": "a5907176",
   "metadata": {
    "deletable": false,
    "editable": false,
    "nbgrader": {
     "cell_type": "code",
     "checksum": "432b79f1fc4b8d21ce185c569949f030",
     "grade": true,
     "grade_id": "cell-1665ebeb7c3acb5f",
     "locked": true,
     "points": 1,
     "schema_version": 3,
     "solution": false,
     "task": false
    }
   },
   "outputs": [
    {
     "name": "stdout",
     "output_type": "stream",
     "text": [
      "ok\n"
     ]
    }
   ],
   "source": [
    "# Test: Verify that the percentage of members for each role is calculated correctly.\n",
    "def test_role_percentage():\n",
    "    team = Team(\"Project A\")\n",
    "    team.add_member(Member(\"Alice\", \"Developer\"))\n",
    "    team.add_member(Member(\"Bob\", \"Designer\"))\n",
    "    team.add_member(Member(\"Charlie\", \"Developer\"))\n",
    "    percentages = team.role_percentage()\n",
    "    assert abs(percentages[\"Developer\"] - 66.67) < 0.01\n",
    "    assert abs(percentages[\"Designer\"] - 33.33) < 0.01\n",
    "    print(\"ok\")\n",
    "\n",
    "test_role_percentage()"
   ]
  },
  {
   "cell_type": "code",
   "execution_count": 108,
   "id": "80aa4ece",
   "metadata": {
    "deletable": false,
    "editable": false,
    "nbgrader": {
     "cell_type": "code",
     "checksum": "84a0404134a576330a51fa221d173f6b",
     "grade": false,
     "grade_id": "cell-7991ab046878b940",
     "locked": true,
     "schema_version": 3,
     "solution": false,
     "task": false
    }
   },
   "outputs": [
    {
     "name": "stdout",
     "output_type": "stream",
     "text": [
      "Team Name: Project A, Number of Members: 5\n",
      "\n",
      "Role Counts:\n",
      "Developer: 2\n",
      "Designer: 2\n",
      "Project Manager: 1\n",
      "\n",
      "Role Percentages:\n",
      "Developer: 40.00%\n",
      "Designer: 40.00%\n",
      "Project Manager: 20.00%\n"
     ]
    }
   ],
   "source": [
    "# Example usage\n",
    "# Create some team members\n",
    "member1 = Member(\"Alice\", \"Developer\")\n",
    "member2 = Member(\"Bob\", \"Designer\")\n",
    "member3 = Member(\"Charlie\", \"Developer\")\n",
    "member4 = Member(\"Diana\", \"Designer\")\n",
    "member5 = Member(\"Eve\", \"Project Manager\")\n",
    "\n",
    "# Create a team and add members\n",
    "team = Team(\"Project A\")\n",
    "team.add_member(member1)\n",
    "team.add_member(member2)\n",
    "team.add_member(member3)\n",
    "team.add_member(member4)\n",
    "team.add_member(member5)\n",
    "\n",
    "# Print team details\n",
    "print(team)\n",
    "\n",
    "# Calculate and print role counts\n",
    "print(\"\\nRole Counts:\")\n",
    "role_counts = team.count_members_by_role()\n",
    "for role, count in role_counts.items():\n",
    "    print(f\"{role}: {count}\")\n",
    "\n",
    "# Calculate and print role percentages\n",
    "print(\"\\nRole Percentages:\")\n",
    "percentages = team.role_percentage()\n",
    "for role, percentage in percentages.items():\n",
    "    print(f\"{role}: {percentage:.2f}%\")"
   ]
  },
  {
   "cell_type": "code",
   "execution_count": null,
   "id": "bec2d385-57ca-47df-b761-4e7380822bd8",
   "metadata": {},
   "outputs": [],
   "source": []
  }
 ],
 "metadata": {
  "BondSan": "8e046abdfe665244e2273127a544e504c7513cd8478aeadade11bc10f3ca50979085209aff0bcb38efcc8029e63dde521a1cdbd734f56ec8c3b643465e41422ad5ed143c8c581811e711e6b4db4dd9483affa4c711741f29532f8e6575fcaca00c654b001a81bbd3d45ea1f5de4ae4ede982fd3fa85b06d34685e0452a8e4d996985ff05f709167c71bb8d9b875ef7c46ca163329c3ab375a03f3f9b5bf363aade8a0cfc6b2f7d49afb98234347f1d98b0ddad16e0e35b0cf98911e28e26aa6747277b40fb3fa5660f6a805b149456daabfe5a3c762fe4b4394cbcf6b6eb518dc1e44e7b11a7afb027f38f502b39eb03c39d4cd057f3ce7e2767dde2cb2130c6",
  "kernelspec": {
   "display_name": "Python 3 (ipykernel)",
   "language": "python",
   "name": "python3"
  },
  "language_info": {
   "codemirror_mode": {
    "name": "ipython",
    "version": 3
   },
   "file_extension": ".py",
   "mimetype": "text/x-python",
   "name": "python",
   "nbconvert_exporter": "python",
   "pygments_lexer": "ipython3",
   "version": "3.12.4"
  }
 },
 "nbformat": 4,
 "nbformat_minor": 5
}
