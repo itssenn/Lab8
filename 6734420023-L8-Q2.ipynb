{
 "cells": [
  {
   "cell_type": "markdown",
   "id": "cd46bfe8",
   "metadata": {
    "deletable": false,
    "editable": false,
    "nbgrader": {
     "cell_type": "markdown",
     "checksum": "f2f82768c4b38d11f7dcf403cf716d9c",
     "grade": false,
     "grade_id": "cell-5fbf10c71a4a3f78",
     "locked": true,
     "schema_version": 3,
     "solution": false,
     "task": false
    }
   },
   "source": [
    "# Q2: Library management system\n",
    "\n",
    "Imagine you are building a simple library management system. Implement three classes: `Author`, `Book`, and `Library`."
   ]
  },
  {
   "cell_type": "markdown",
   "id": "86f59ed7",
   "metadata": {
    "deletable": false,
    "editable": false,
    "nbgrader": {
     "cell_type": "markdown",
     "checksum": "a85595ac688a95fb93d67a96c97a3186",
     "grade": false,
     "grade_id": "cell-a560964716b76c4a",
     "locked": true,
     "schema_version": 3,
     "solution": false,
     "task": false
    }
   },
   "source": [
    "The **Author** class should have the following attributes:\n",
    "- `name (str)`: the name of the author\n",
    "- `birth_year (int)`: the birth year of the author\n",
    "\n",
    "It should also have a method:\n",
    "- `display_info()`: prints out the author's name and birth year."
   ]
  },
  {
   "cell_type": "markdown",
   "id": "d77c6810",
   "metadata": {
    "deletable": false,
    "editable": false,
    "nbgrader": {
     "cell_type": "markdown",
     "checksum": "b777084119ccbb7e0c7360e134041ffa",
     "grade": false,
     "grade_id": "cell-e057d773da7375bb",
     "locked": true,
     "schema_version": 3,
     "solution": false,
     "task": false
    }
   },
   "source": [
    "The **Book** class should have the following attributes:\n",
    "- `title (str)`: the title of the book\n",
    "- `isbn (str)`: the International Standard Book Number of the book\n",
    "- `author (Author)`: the author of the book (an instance of the Author class)\n",
    "- `available_copies (int)`: the number of available copies of the book\n",
    "\n",
    "It should also have the following methods:\n",
    "- `display_info()`: prints out the title, ISBN, author's name, and the number of available copies of the book.\n",
    "- `borrow_copy()`: Decreases the number of available copies by 1 when a book is borrowed. If no copies are available, print a message indicating that the book is currently unavailable.\n",
    "- `return_copy()`: Increases the number of available copies by 1 when a book is returned."
   ]
  },
  {
   "cell_type": "markdown",
   "id": "2d7cb41e",
   "metadata": {
    "deletable": false,
    "editable": false,
    "nbgrader": {
     "cell_type": "markdown",
     "checksum": "2bfdbda32bd3c1d7a12c6f516097ef06",
     "grade": false,
     "grade_id": "cell-afdb0890264438a1",
     "locked": true,
     "schema_version": 3,
     "solution": false,
     "task": false
    }
   },
   "source": [
    "The **Library** class should have the following attributes:\n",
    "- `books(dict)`: a list containing instances of the Book class\n",
    "\n",
    "It should also have the following methods:\n",
    "- `add_book(book: Book)`: adds a book to the library's collection\n",
    "- `display_books()`: displays information about all the books in the library\n",
    "- `search_books_by_author(author_name: str)`: Takes an author's name as input and prints the titles of all books in the library written by that author.\n",
    "- `search_books_by_title(title: str)`: Takes a title as input and prints information about the book with that title in the library.\n",
    "- `total_available_copies()`: Calculates and returns the total number of available copies for all books in the library.\n",
    "\n",
    "Implement the classes and methods described above and create an example demonstrating the use of class composition with these classes."
   ]
  },
  {
   "cell_type": "code",
   "execution_count": 235,
   "id": "ada3d638",
   "metadata": {
    "deletable": false,
    "nbgrader": {
     "cell_type": "code",
     "checksum": "c3a51c0ec857d85d8d53614a90f92ac3",
     "grade": false,
     "grade_id": "cell-832ef3d3172fac05",
     "locked": false,
     "schema_version": 3,
     "solution": true,
     "task": false
    }
   },
   "outputs": [],
   "source": [
    "class Author:\n",
    "    def __init__(self, name, birth_year):\n",
    "        self.name = name\n",
    "        self.by = birth_year\n",
    "\n",
    "    def display_info(self):\n",
    "        return self.name + str(self.by)\n",
    "\n",
    "class Book:\n",
    "    def __init__(self, title, isbn, author, available_copies):\n",
    "        self.title = title\n",
    "        self.isbn = isbn\n",
    "        self.author = author\n",
    "        self.avai = available_copies\n",
    "\n",
    "    def display_info(self):\n",
    "        return f'Title:{self.title}\\nISBN:{self.isbn}\\nAuthor:{self.author.name}\\nAvailable_copies{str(self.avai)}'\n",
    "\n",
    "    def borrow_copy(self):\n",
    "        if self.avai > 0:\n",
    "            self.avai -= 1\n",
    "            return 'borrowed successfully'\n",
    "        else:\n",
    "            return 'the book is currently unavailable.'\n",
    "\n",
    "    def return_copy(self):\n",
    "        self.avai += 1\n",
    "        return 'returned successfully'\n",
    "        \n",
    "class Library:\n",
    "    def __init__(self):\n",
    "        self.books = {}\n",
    "\n",
    "    def add_book(self, book):\n",
    "        self.books[book.isbn] = book\n",
    "\n",
    "    def display_books(self):\n",
    "        info = ''\n",
    "        for isbn in self.books:\n",
    "            info = info + self.books[isbn].display_info()\n",
    "        return info\n",
    "\n",
    "    def search_books_by_author(self, author_name):\n",
    "        for i in self.books:\n",
    "            if self.books[i].author.name == author_name:\n",
    "                return self.books[i].title\n",
    "            else:\n",
    "                return \"No books found\"\n",
    "\n",
    "    def search_books_by_title(self, title):\n",
    "        for i in self.books:\n",
    "            if title in self.books[i].title:\n",
    "                return self.books[i].display_info()\n",
    "            else:\n",
    "                return \"No book found\"\n",
    "\n",
    "    def total_available_copies(self):\n",
    "        total = 0\n",
    "        for i in self.books:\n",
    "            total += self.books[i].avai\n",
    "        return total"
   ]
  },
  {
   "cell_type": "markdown",
   "id": "a32aa701",
   "metadata": {
    "deletable": false,
    "editable": false,
    "nbgrader": {
     "cell_type": "markdown",
     "checksum": "6b79e88ebeb7ab751412c029f6f8619f",
     "grade": false,
     "grade_id": "cell-3e4d356266f73aef",
     "locked": true,
     "schema_version": 3,
     "solution": false,
     "task": false
    }
   },
   "source": [
    "In the context of Python's unittest framework, each test case is executed in a new instance of the test case class. When a test case is run, the `setUp` method is called before each test method, and the `tearDown` method is called after each test method. "
   ]
  },
  {
   "cell_type": "markdown",
   "id": "7336e32a",
   "metadata": {
    "deletable": false,
    "editable": false,
    "nbgrader": {
     "cell_type": "markdown",
     "checksum": "bbb5b1f18a761e94440bfce7ceb4e016",
     "grade": false,
     "grade_id": "cell-c719f5a8eee6832a",
     "locked": true,
     "schema_version": 3,
     "solution": false,
     "task": false
    }
   },
   "source": [
    "**Author Class Test Cases:**\n",
    "- Test Case 1.1: Create an Author instance with a valid name and birth year.\n",
    "- Test Case 1.2: Verify that display_info() method returns a string."
   ]
  },
  {
   "cell_type": "code",
   "execution_count": 200,
   "id": "091bda8f",
   "metadata": {
    "deletable": false,
    "editable": false,
    "nbgrader": {
     "cell_type": "code",
     "checksum": "102588a4e26ce1f3c98c90df0184be82",
     "grade": true,
     "grade_id": "cell-f2e38ae36a6170a5",
     "locked": true,
     "points": 1,
     "schema_version": 3,
     "solution": false,
     "task": false
    }
   },
   "outputs": [
    {
     "name": "stderr",
     "output_type": "stream",
     "text": [
      "..\n",
      "----------------------------------------------------------------------\n",
      "Ran 2 tests in 0.003s\n",
      "\n",
      "OK\n"
     ]
    },
    {
     "name": "stdout",
     "output_type": "stream",
     "text": [
      "ok\n",
      "ok\n"
     ]
    }
   ],
   "source": [
    "import unittest\n",
    "\n",
    "class TestAuthor(unittest.TestCase):\n",
    "    \n",
    "    def setUp(self): \n",
    "        self.author = Author(\"John Doe\", 1980)\n",
    "\n",
    "    def test_author_creation(self):\n",
    "        # Test Case 1.1\n",
    "        self.assertIsInstance(self.author, Author)\n",
    "        print(\"ok\")\n",
    "\n",
    "    def test_author_display_info(self):\n",
    "        # Test Case 1.2\n",
    "        author_info = self.author.display_info()\n",
    "        self.assertIsInstance(author_info, str)\n",
    "        self.assertIn(\"John Doe\", author_info)\n",
    "        self.assertIn(\"1980\", author_info)\n",
    "        print(\"ok\")\n",
    "\n",
    "# Load and run TestAuthor\n",
    "result = unittest.TextTestRunner().run(unittest.TestLoader().loadTestsFromTestCase(TestAuthor))\n",
    "if len(result.failures) == 0:\n",
    "    pass"
   ]
  },
  {
   "cell_type": "markdown",
   "id": "79d6441d",
   "metadata": {
    "deletable": false,
    "editable": false,
    "nbgrader": {
     "cell_type": "markdown",
     "checksum": "0bc0735a471d7678199a206a61c0466f",
     "grade": false,
     "grade_id": "cell-9be4306a6ebe533e",
     "locked": true,
     "schema_version": 3,
     "solution": false,
     "task": false
    }
   },
   "source": [
    "**Book Class Test Cases:**\n",
    "- Test Case 2.1: Create a Book instance with a valid title, ISBN, Author instance, and available copies.\n",
    "- Test Case 2.2: Verify that display_info() method returns a string.\n",
    "- Test Case 2.3: Borrow a copy of a book with available copies.\n",
    "- Test Case 2.4: Return a copy of a book.\n",
    "- Test Case 2.5: Attempt to borrow a copy of a book with no available copies."
   ]
  },
  {
   "cell_type": "code",
   "execution_count": 203,
   "id": "7231d28f",
   "metadata": {
    "deletable": false,
    "editable": false,
    "nbgrader": {
     "cell_type": "code",
     "checksum": "28051cd6eba36531ef0bce6556fcacc9",
     "grade": true,
     "grade_id": "cell-165c2239435398d8",
     "locked": true,
     "points": 1,
     "schema_version": 3,
     "solution": false,
     "task": false
    }
   },
   "outputs": [
    {
     "name": "stderr",
     "output_type": "stream",
     "text": [
      ".....\n",
      "----------------------------------------------------------------------\n",
      "Ran 5 tests in 0.004s\n",
      "\n",
      "OK\n"
     ]
    },
    {
     "name": "stdout",
     "output_type": "stream",
     "text": [
      "ok\n",
      "ok\n",
      "ok\n",
      "ok\n",
      "ok\n"
     ]
    }
   ],
   "source": [
    "import unittest\n",
    "\n",
    "class TestBook(unittest.TestCase):    \n",
    "  \n",
    "    def setUp(self): \n",
    "        self.author = Author(\"John Doe\", 1980)\n",
    "        self.book1 = Book(\"Introduction to Python\", \"978-1-234567-89-0\", self.author, 10)\n",
    "        self.book2 = Book(\"Data Structures in Python\", \"978-1-234567-89-1\", self.author, 5)\n",
    "        self.book3 = Book(\"Advanced Python Programming\", \"978-1-234567-89-2\", self.author, 1)\n",
    "        \n",
    "    def test_book_creation(self):\n",
    "        # Test Case 2.1\n",
    "        self.assertIsInstance(self.book1, Book)\n",
    "        print(\"ok\")\n",
    "\n",
    "    def test_book_display_info(self):\n",
    "        # Test Case 2.2\n",
    "        book_info = self.book1.display_info()\n",
    "        self.assertIsInstance(book_info, str)\n",
    "        self.assertIn(\"Introduction to Python\", book_info)\n",
    "        self.assertIn(\"978-1-234567-89-0\", book_info)\n",
    "        self.assertIn(\"John Doe\", book_info)\n",
    "        self.assertIn(\"10\", book_info)\n",
    "        print(\"ok\")\n",
    "\n",
    "    def test_borrow_copy(self):\n",
    "        # Test Case 2.3\n",
    "        borrow_result = self.book1.borrow_copy()\n",
    "        self.assertIsInstance(borrow_result, str)\n",
    "        self.assertIn(\"borrowed successfully\", borrow_result)\n",
    "        print(\"ok\")\n",
    "\n",
    "    def test_return_copy(self):\n",
    "        # Test Case 2.4\n",
    "        return_result = self.book2.return_copy()\n",
    "        self.assertIsInstance(return_result, str)\n",
    "        self.assertIn(\"returned successfully\", return_result)\n",
    "        print(\"ok\")\n",
    "\n",
    "    def test_borrow_copy_no_available_copies(self):\n",
    "        # Test Case 2.5\n",
    "        self.book3.borrow_copy()  # Borrow the only available copy\n",
    "        borrow_result = self.book3.borrow_copy()\n",
    "        self.assertIsInstance(borrow_result, str)\n",
    "        self.assertIn(\"currently unavailable\", borrow_result)\n",
    "        print(\"ok\")\n",
    "        \n",
    "# Load and run TestBook\n",
    "result = unittest.TextTestRunner().run(unittest.TestLoader().loadTestsFromTestCase(TestBook))\n",
    "if len(result.failures) == 0:\n",
    "    pass"
   ]
  },
  {
   "cell_type": "markdown",
   "id": "cff949fd",
   "metadata": {
    "deletable": false,
    "editable": false,
    "nbgrader": {
     "cell_type": "markdown",
     "checksum": "a787b6f83ebf0f8ee1a153acc3896126",
     "grade": false,
     "grade_id": "cell-eb56480e967ee580",
     "locked": true,
     "schema_version": 3,
     "solution": false,
     "task": false
    }
   },
   "source": [
    "**Library Class Test Cases:**\n",
    "- Test Case 3.1: Create a Library instance.\n",
    "- Test Case 3.2: Add a Book instance to the Library.\n",
    "- Test Case 3.3: Verify that display_books() method returns a string.\n",
    "- Test Case 3.4: Search for books by a valid author's name.\n",
    "- Test Case 3.5: Search for a book by a valid title.\n",
    "- Test Case 3.6: Attempt to search for books by an invalid author's name.\n",
    "- Test Case 3.7: Attempt to search for a non-existing book by title.\n",
    "- Test Case 3.8: Verify that total_available_copies() method returns an integer."
   ]
  },
  {
   "cell_type": "code",
   "execution_count": 237,
   "id": "94426b49",
   "metadata": {
    "deletable": false,
    "editable": false,
    "nbgrader": {
     "cell_type": "code",
     "checksum": "b3acc8e614ff4ee1bfac32985b7957ed",
     "grade": true,
     "grade_id": "cell-95555308a475811e",
     "locked": true,
     "points": 1,
     "schema_version": 3,
     "solution": false,
     "task": false
    }
   },
   "outputs": [
    {
     "name": "stderr",
     "output_type": "stream",
     "text": [
      "........\n",
      "----------------------------------------------------------------------\n",
      "Ran 8 tests in 0.004s\n",
      "\n",
      "OK\n"
     ]
    },
    {
     "name": "stdout",
     "output_type": "stream",
     "text": [
      "ok\n",
      "ok\n",
      "ok\n",
      "ok\n",
      "ok\n",
      "ok\n",
      "ok\n",
      "ok\n"
     ]
    }
   ],
   "source": [
    "import unittest\n",
    "\n",
    "class TestLibrary(unittest.TestCase):\n",
    "  \n",
    "    def setUp(self): \n",
    "        self.author = Author(\"John Doe\", 1980)\n",
    "        self.book1 = Book(\"Introduction to Python\", \"978-1-234567-89-0\", self.author, 10)\n",
    "        self.book2 = Book(\"Data Structures in Python\", \"978-1-234567-89-1\", self.author, 5)\n",
    "        self.book3 = Book(\"Advanced Python Programming\", \"978-1-234567-89-2\", self.author, 1)\n",
    "        self.library = Library()\n",
    "        self.library.add_book(self.book1)\n",
    "        self.library.add_book(self.book2)\n",
    "        self.library.add_book(self.book3)\n",
    "        \n",
    "    def test_library_creation(self):\n",
    "        # Test Case 3.1\n",
    "        self.assertIsInstance(self.library, Library)\n",
    "        print(\"ok\")\n",
    "\n",
    "    def test_add_book(self):\n",
    "        # Test Case 3.2\n",
    "        self.assertEqual(len(self.library.books), 3)\n",
    "        print(\"ok\")\n",
    "\n",
    "    def test_display_books(self):\n",
    "        # Test Case 3.3\n",
    "        library_info = self.library.display_books()\n",
    "        self.assertIsInstance(library_info, str)\n",
    "        self.assertIn(\"Introduction to Python\", library_info)\n",
    "        self.assertIn(\"Data Structures in Python\", library_info)\n",
    "        self.assertIn(\"Advanced Python Programming\", library_info)\n",
    "        print(\"ok\")\n",
    "\n",
    "    def test_search_books_by_author(self):\n",
    "        # Test Case 3.4\n",
    "        author_books = self.library.search_books_by_author(\"John Doe\")\n",
    "        self.assertIsInstance(author_books, str)\n",
    "        self.assertIn(\"Introduction to Python\", author_books)\n",
    "        print(\"ok\")\n",
    "\n",
    "    def test_search_books_by_title(self):\n",
    "        # Test Case 3.5\n",
    "        book_info = self.library.search_books_by_title(\"Introduction to Python\")\n",
    "        self.assertIsInstance(book_info, str)\n",
    "        self.assertIn(\"Introduction to Python\", book_info)\n",
    "        print(\"ok\")\n",
    "\n",
    "    def test_search_books_by_invalid_author(self):\n",
    "        # Test Case 3.6\n",
    "        not_found_msg = self.library.search_books_by_author(\"Unknown Author\")\n",
    "        self.assertIsInstance(not_found_msg, str)\n",
    "        self.assertIn(\"No books found\", not_found_msg)\n",
    "        print(\"ok\")\n",
    "\n",
    "    def test_search_books_by_non_existing_title(self):\n",
    "        # Test Case 3.7\n",
    "        not_found_msg = self.library.search_books_by_title(\"Non-Existing Title\")\n",
    "        self.assertIsInstance(not_found_msg, str)\n",
    "        self.assertIn(\"No book found\", not_found_msg)\n",
    "        print(\"ok\")\n",
    "\n",
    "    def test_total_available_copies(self):\n",
    "        # Test Case 3.8\n",
    "        isbn = \"978-1-234567-89-0\"\n",
    "        self.library.books[isbn].borrow_copy()\n",
    "        self.library.books[isbn].borrow_copy()\n",
    "        self.library.books[isbn].return_copy()\n",
    "        total_copies = self.library.total_available_copies()\n",
    "        self.assertIsInstance(total_copies, int)\n",
    "        self.assertEqual(total_copies, 15)\n",
    "        print(\"ok\")\n",
    "        \n",
    "# Load and run TestLibrary\n",
    "result = unittest.TextTestRunner().run(unittest.TestLoader().loadTestsFromTestCase(TestLibrary))\n",
    "if len(result.failures) == 0:\n",
    "    pass"
   ]
  },
  {
   "cell_type": "code",
   "execution_count": 239,
   "id": "6539761d",
   "metadata": {
    "deletable": false,
    "editable": false,
    "nbgrader": {
     "cell_type": "code",
     "checksum": "c70c383b36159c9ef343bf4001f61868",
     "grade": false,
     "grade_id": "cell-908e42879aac0034",
     "locked": true,
     "schema_version": 3,
     "solution": false,
     "task": false
    }
   },
   "outputs": [
    {
     "name": "stdout",
     "output_type": "stream",
     "text": [
      "Title:Introduction to Python\n",
      "ISBN:978-1-234567-89-0\n",
      "Author:John Doe\n",
      "Available_copies10Title:Data Structures in Python\n",
      "ISBN:978-1-234567-89-1\n",
      "Author:John Doe\n",
      "Available_copies5Title:Advanced Python Programming\n",
      "ISBN:978-1-234567-89-2\n",
      "Author:John Doe\n",
      "Available_copies1\n",
      "borrowed successfully\n",
      "returned successfully\n",
      "Title:Introduction to Python\n",
      "ISBN:978-1-234567-89-0\n",
      "Author:John Doe\n",
      "Available_copies9Title:Data Structures in Python\n",
      "ISBN:978-1-234567-89-1\n",
      "Author:John Doe\n",
      "Available_copies6Title:Advanced Python Programming\n",
      "ISBN:978-1-234567-89-2\n",
      "Author:John Doe\n",
      "Available_copies1\n",
      "Introduction to Python\n",
      "Title:Introduction to Python\n",
      "ISBN:978-1-234567-89-0\n",
      "Author:John Doe\n",
      "Available_copies9\n",
      "16\n"
     ]
    }
   ],
   "source": [
    "# Example Usage\n",
    "author1 = Author(\"John Doe\", 1980)\n",
    "book1 = Book(\"Introduction to Python\", \"978-1-234567-89-0\", author1, 10)\n",
    "book2 = Book(\"Data Structures in Python\", \"978-1-234567-89-1\", author1, 5)\n",
    "book3 = Book(\"Advanced Python Programming\", \"978-1-234567-89-2\", author1, 1)\n",
    "\n",
    "\n",
    "library = Library()\n",
    "library.add_book(book1)\n",
    "library.add_book(book2)\n",
    "library.add_book(book3)\n",
    "\n",
    "# Display information about the books in the library\n",
    "print(library.display_books())\n",
    "\n",
    "# Borrow a copy of a book\n",
    "print(library.books[book1.isbn].borrow_copy())\n",
    "\n",
    "# Return a copy of a book\n",
    "print(library.books[book2.isbn].return_copy())\n",
    "\n",
    "# Display updated information about the books in the library\n",
    "print(library.display_books())\n",
    "\n",
    "# Search for books by a specific author\n",
    "print(library.search_books_by_author(\"John Doe\"))\n",
    "\n",
    "# Search for a book by title\n",
    "print(library.search_books_by_title(\"Introduction to Python\"))\n",
    "\n",
    "# Get the total number of available copies in the library\n",
    "print(library.total_available_copies())\n"
   ]
  },
  {
   "cell_type": "code",
   "execution_count": null,
   "id": "3a3593ce-2d94-4a01-9775-986755d45690",
   "metadata": {},
   "outputs": [],
   "source": []
  },
  {
   "cell_type": "code",
   "execution_count": null,
   "id": "efdf9ece-5afa-448a-afbd-916f35f51f91",
   "metadata": {},
   "outputs": [],
   "source": []
  }
 ],
 "metadata": {
  "BondSan": "80680fe10d25febb685349c6e1a4694264dc6b09bf5148fe6b4e93455c53f8c39bdbbfab8d85b049a684a805bb11253e7956784edc395a33f508c98fa0105f3a6498531c102841671f4c620b92ccce87601f0483907436cdaa64b3ec6fabeea55e18bc44588b21b20228af452ab5c30971918363982980db34285be7e2608dc118865d2b835bcb0ef509f5735dac150e32e8c92d3f3feb13443b3900c5c5f11ae4c7e6396719b1e452832f08c6b8a8ee5b2d71997fba9283d18b76aa0911b5cd867efb988e61706e5470a22de9d8c53f185e2ab350a194342836b7970433a7338a88a248777ec6a7d74b088f548324a63d1a56c11593efdf0d5cce8efc624110",
  "kernelspec": {
   "display_name": "Python 3 (ipykernel)",
   "language": "python",
   "name": "python3"
  },
  "language_info": {
   "codemirror_mode": {
    "name": "ipython",
    "version": 3
   },
   "file_extension": ".py",
   "mimetype": "text/x-python",
   "name": "python",
   "nbconvert_exporter": "python",
   "pygments_lexer": "ipython3",
   "version": "3.12.4"
  }
 },
 "nbformat": 4,
 "nbformat_minor": 5
}
